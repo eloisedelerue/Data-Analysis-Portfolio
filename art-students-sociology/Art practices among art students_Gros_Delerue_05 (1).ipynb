{
 "cells": [
  {
   "cell_type": "markdown",
   "metadata": {},
   "source": [
    "# Sociology of Art Students' Practices"
   ]
  },
  {
   "cell_type": "markdown",
   "metadata": {},
   "source": [
    "**Authors:** Solène Gros, Eloïse Delerue\n",
    "\n",
    "**Date:** June 9th, 2024"
   ]
  },
  {
   "cell_type": "markdown",
   "metadata": {},
   "source": [
    "## 1. Library Import"
   ]
  },
  {
   "cell_type": "code",
   "execution_count": 1,
   "metadata": {},
   "outputs": [],
   "source": [
    "import pandas as pd\n",
    "import matplotlib.pyplot as plt\n",
    "import seaborn as sns\n",
    "import numpy as np\n",
    "import statsmodels.formula.api as smf"
   ]
  },
  {
   "cell_type": "markdown",
   "metadata": {},
   "source": [
    "## 2. Data Import"
   ]
  },
  {
   "cell_type": "code",
   "execution_count": 2,
   "metadata": {},
   "outputs": [],
   "source": [
    "df = pd.read_csv(\"Art practices among art students_clean.csv\")\n",
    "pd.set_option('display.max_columns', None)"
   ]
  },
  {
   "cell_type": "markdown",
   "metadata": {},
   "source": [
    "## 3. Data Manipulation"
   ]
  },
  {
   "cell_type": "code",
   "execution_count": 3,
   "metadata": {},
   "outputs": [],
   "source": [
    "remplacement_1 = {\"Pas du tout confortable\":1, \"Peu confortable\":2, \"Moyennement confortable\":3, \"Assez confortable\":4, \"Très confortable\":5}\n",
    "df[\"Q14\"] = df[\"Q14\"].replace(remplacement_1)\n",
    "\n",
    "remplacement_2 = {\"En zone rurale (campagne, village, zone agricole)\":1, \"En zone moyennement urbanisée (banlieue, moyenne ville)\":2, \"En zone très urbanisée (centre-ville, quartier résidentiel en ville)\":3}\n",
    "df[\"Q9\"] = df[\"Q9\"].replace(remplacement_2)\n",
    "df[\"Q10\"] = df[\"Q10\"].replace(remplacement_2)\n",
    "\n",
    "remplacement_3 = {\"Pas de diplôme\":0, \"Brevet des collèges\":0, \"CAP/BEP\":1, \"Baccalauréat (ou équivalent à l'étranger)\":2, \"BTS/DUT (bac+2)\":3, \"License (bac+3)\":4, \"Master (bac+5)\":5, \"Doctorat\":6, \"Autre (diplôme absent de la liste, parent absent...)\":None}\n",
    "df[\"Q11\"] = df[\"Q11\"].replace(remplacement_3)\n",
    "df[\"Q12\"] = df[\"Q12\"].replace(remplacement_3)\n",
    "\n",
    "remplacement_4 = {\"Non\":0, \"Oui un parent\":1, \"Oui les deux\":2}\n",
    "df[\"Q13\"] = df[\"Q13\"].replace(remplacement_4)\n",
    "\n",
    "remplacement_5 = {\"Moins d'une fois par an\":1, \"Environ une fois par an\":2, \"Plusieurs fois par an\":3, \"Environ une fois par mois\":4, \"Toutes les semaines\":5}\n",
    "for i in range(1, 6):\n",
    "    df[f\"Q15_{i}\"] = df[f\"Q15_{i}\"].replace(remplacement_5)\n",
    "\n",
    "remplacement_6 = {\"Jamais\":1, \"Rarement\":2, \"Parfois\":3, \"Souvent\":4, \"Très souvent\":5}\n",
    "df[\"Q17\"] = df[\"Q17\"].replace(remplacement_6)\n",
    "for i in range(1, 15):\n",
    "    df[f\"Q19_{i}\"] = df[f\"Q19_{i}\"].replace(remplacement_6)"
   ]
  },
  {
   "cell_type": "code",
   "execution_count": 4,
   "metadata": {},
   "outputs": [],
   "source": [
    "df[\"Parents\"] = df.apply(lambda row: max(row['Q11'], row['Q12']), axis=1)"
   ]
  },
  {
   "cell_type": "code",
   "execution_count": 5,
   "metadata": {},
   "outputs": [],
   "source": [
    "def coef_culture(data):\n",
    "    elitiste = data[[\"Q15_1\", \"Q15_5\"]].mean()\n",
    "    autre = data[[\"Q15_2\", \"Q15_3\", \"Q15_4\"]].mean()\n",
    "    return np.log(elitiste/autre) / np.log(5)\n",
    "\n",
    "df[\"culture\"] = df.apply(coef_culture, axis=1)"
   ]
  },
  {
   "cell_type": "code",
   "execution_count": 6,
   "metadata": {},
   "outputs": [],
   "source": [
    "def coef_art(data):\n",
    "    elitiste = data[[\"Q19_3\", \"Q19_6\", \"Q19_7\", \"Q19_11\", \"Q19_13\"]].mean()\n",
    "    autre = data[[\"Q19_1\", \"Q19_2\", \"Q19_4\", \"Q19_5\", \"Q19_8\", \"Q19_9\", \"Q19_10\", \"Q19_12\"]].mean()\n",
    "    return np.log(elitiste/autre) / np.log(5)\n",
    "\n",
    "df[\"art\"] = df.apply(coef_art, axis=1)"
   ]
  },
  {
   "cell_type": "markdown",
   "metadata": {},
   "source": [
    "## 4. Data Description"
   ]
  },
  {
   "cell_type": "code",
   "execution_count": null,
   "metadata": {},
   "outputs": [],
   "source": [
    "palette = sns.color_palette([\"#FFE77C\", \"#FFC36A\", \"#FFA058\", \"#FF7C45\", \"#FF5833\"])\n",
    "palette_moins = sns.color_palette([\"#FFC36A\", \"#FFA058\", \"#FF7C45\", \"#FF5833\"])\n",
    "palette_encore_moins = sns.color_palette([\"#FF7C45\", \"#FF5833\"])\n",
    "palette_3 = sns.color_palette([\"#FFE77C\", \"#FFA058\", \"#FF5833\"])\n",
    "palette_6 = sns.color_palette([\"#FFE77C\", \"#FFCA6D\", \"#FFAE5F\", \"#FF9150\", \"#FF7542\", \"#FF5833\"])\n",
    "\n",
    "fig1, ax1 = plt.subplots(2,3)\n",
    "plt.suptitle(\"Figure 1\")\n",
    "fig1.set_figheight(6)\n",
    "fig1.set_figwidth(10)\n",
    "fig1.tight_layout(w_pad=2, h_pad=5)\n",
    "ax1[1][2].set_visible(False)\n",
    "\n",
    "sns.countplot(x=df[\"Q10\"], palette=palette_3, ax=ax1[0][0])\n",
    "ax1[0][0].set(xlabel = 'Geographic Situation \\n (1 = rural, 3 = urban)', ylabel = 'Count')\n",
    "ax1[0][0].set_title('a)')\n",
    "\n",
    "sns.countplot(x=df[\"Q14\"], palette=palette, ax=ax1[0][1])\n",
    "ax1[0][1].set(xlabel = 'Economic Situation (1 = very \\n unsatisfying, 5 = very satistying)', ylabel = 'Count')\n",
    "ax1[0][1].set_title('b)')\n",
    "\n",
    "sns.countplot(x=df[\"Q17\"], palette=palette_encore_moins, ax=ax1[0][2])\n",
    "ax1[0][2].set(xlabel = \"Social Media Consumption of Artistic \\n Content (1 = never, 5 = very often)\", ylabel = 'Count')\n",
    "ax1[0][2].set_title('c)')\n",
    "\n",
    "sns.countplot(x=df[\"Parents\"], palette=palette_6, ax=ax1[1][0])\n",
    "ax1[1][0].set(xlabel = \"Maximum Parent's Degree (in ascending order:\\n no degree, CAP, bac+2, bac+3, bac+5, phd)\", ylabel = 'Count')\n",
    "ax1[1][0].set_title('d)')\n",
    "\n",
    "sns.countplot(x=df[\"Q13\"], palette=palette_3, ax=ax1[1][1])\n",
    "ax1[1][1].set(xlabel = \"Number of Parents with Regular \\n Artistic Practices\", ylabel = 'Count')\n",
    "ax1[1][1].set_title('d)')"
   ]
  },
  {
   "cell_type": "code",
   "execution_count": null,
   "metadata": {},
   "outputs": [],
   "source": [
    "palette = sns.color_palette([\"#FFE77C\", \"#FFC36A\", \"#FFA058\", \"#FF7C45\", \"#FF5833\"])\n",
    "palette_moins = sns.color_palette([\"#FFC36A\", \"#FFA058\", \"#FF7C45\", \"#FF5833\"])\n",
    "\n",
    "fig2, ax2 = plt.subplots(2, 3)\n",
    "plt.suptitle(\"Figure 2\", y=1.02)\n",
    "fig2.text(0.5, 0.91, \"Do you have the following activities? (1 = less than once a year, 5 = every week)\", ha='center', fontsize=10)\n",
    "\n",
    "\n",
    "fig2.set_figheight(4)\n",
    "fig2.set_figwidth(6)\n",
    "fig2.tight_layout(w_pad=1, h_pad=1.5)\n",
    "\n",
    "\n",
    "ax2[1][2].set_visible(False)\n",
    "\n",
    "\n",
    "sns.countplot(x=df[\"Q15_1\"], palette=palette_moins, ax=ax2[0][0])\n",
    "ax2[0][0].set(xlabel = 'Museum', ylabel = 'Count')\n",
    "\n",
    "sns.countplot(x=df[\"Q15_2\"], palette=palette_moins, ax=ax2[0][1])\n",
    "ax2[0][1].set(xlabel = 'Cinema', ylabel = 'Count')\n",
    "\n",
    "sns.countplot(x=df[\"Q15_3\"], palette=palette, ax=ax2[0][2])\n",
    "ax2[0][2].set(xlabel = 'Sport Event', ylabel = 'Count')\n",
    "\n",
    "sns.countplot(x=df[\"Q15_4\"], palette=palette, ax=ax2[1][0])\n",
    "ax2[1][0].set(xlabel = 'Concert', ylabel = 'Count')\n",
    "\n",
    "sns.countplot(x=df[\"Q15_5\"], palette=palette, ax=ax2[1][1])\n",
    "ax2[1][1].set(xlabel = 'Opera', ylabel = 'Count')\n"
   ]
  },
  {
   "cell_type": "code",
   "execution_count": null,
   "metadata": {},
   "outputs": [],
   "source": [
    "fig3, ax3 = plt.subplots(3, 5)\n",
    "plt.suptitle(\"Figure 3\", y=1.02)\n",
    "fig3.text(0.5, 0.94, \"Answer to the question 'Do you practice [...] ?' (1 = never, 5 = very often)\", ha='center', fontsize=10)\n",
    "\n",
    "\n",
    "fig3.set_figheight(5)\n",
    "fig3.set_figwidth(8)\n",
    "fig3.tight_layout(w_pad=0.5, h_pad=1.5)\n",
    "\n",
    "\n",
    "ax3[2][3].set_visible(False)\n",
    "ax3[2][4].set_visible(False)\n",
    "\n",
    "\n",
    "sns.countplot(x=df[\"Q19_1\"], palette=palette_moins, ax=ax3[0][0])\n",
    "ax3[0][0].set(xlabel = 'Paper Drawing', ylabel = 'Count')\n",
    "sns.countplot(x=df[\"Q19_2\"], palette=palette, ax=ax3[0][1])\n",
    "ax3[0][1].set(xlabel = 'Digital Drawing', ylabel = 'Count')\n",
    "sns.countplot(x=df[\"Q19_3\"], palette=palette, ax=ax3[0][2])\n",
    "ax3[0][2].set(xlabel = 'Thick Paint', ylabel = 'Count')\n",
    "sns.countplot(x=df[\"Q19_4\"], palette=palette, ax=ax3[0][3])\n",
    "ax3[0][3].set(xlabel = 'Watercolour', ylabel = 'Count')\n",
    "sns.countplot(x=df[\"Q19_5\"], palette=palette, ax=ax3[0][4])\n",
    "ax3[0][4].set(xlabel = 'Collage', ylabel = 'Count')\n",
    "sns.countplot(x=df[\"Q19_6\"], palette=palette, ax=ax3[1][0])\n",
    "ax3[1][0].set(xlabel = 'Sculpting', ylabel = 'Count')\n",
    "sns.countplot(x=df[\"Q19_7\"], palette=palette, ax=ax3[1][1])\n",
    "ax3[1][1].set(xlabel = 'Engraving', ylabel = 'Count')\n",
    "sns.countplot(x=df[\"Q19_8\"], palette=palette, ax=ax3[1][2])\n",
    "ax3[1][2].set(xlabel = 'Writing', ylabel = 'Count')\n",
    "sns.countplot(x=df[\"Q19_9\"], palette=palette, ax=ax3[1][3])\n",
    "ax3[1][3].set(xlabel = 'Photography', ylabel = 'Count')\n",
    "sns.countplot(x=df[\"Q19_10\"], palette=palette, ax=ax3[1][4])\n",
    "ax3[1][4].set(xlabel = 'Singing', ylabel = 'Count')\n",
    "sns.countplot(x=df[\"Q19_11\"], palette=palette, ax=ax3[2][0])\n",
    "ax3[2][0].set(xlabel = 'Music Instrument', ylabel = 'Count')\n",
    "sns.countplot(x=df[\"Q19_12\"], palette=palette, ax=ax3[2][1])\n",
    "ax3[2][1].set(xlabel = 'Animation', ylabel = 'Count')\n",
    "sns.countplot(x=df[\"Q19_13\"], palette=palette, ax=ax3[2][2])\n",
    "ax3[2][2].set(xlabel = 'Cinema', ylabel = 'Count')"
   ]
  },
  {
   "cell_type": "code",
   "execution_count": null,
   "metadata": {},
   "outputs": [],
   "source": [
    "fig4, ax4 = plt.subplots(1, 2)\n",
    "plt.suptitle(\"Figure 4\")\n",
    "\n",
    "fig4.set_figheight(3)\n",
    "fig4.set_figwidth(6)\n",
    "fig4.tight_layout(w_pad=0.5, h_pad=1.5)\n",
    "\n",
    "sns.histplot(x=df[\"art\"], bins=8, ax=ax4[0], color=\"#FFAC4C\")\n",
    "ax4[0].set_xlabel(\"Elitisme Score for Art Practices\")\n",
    "ax4[0].set_title('a)')\n",
    "\n",
    "sns.histplot(x=df[\"culture\"], bins=8, ax=ax4[1], color=\"#FFAC4C\")\n",
    "ax4[1].set_xlabel(\"Elitisme Score for Cultural Preferences\")\n",
    "ax4[1].set_title('b)')\n"
   ]
  },
  {
   "cell_type": "markdown",
   "metadata": {},
   "source": [
    "## 5. Data Modelling"
   ]
  },
  {
   "cell_type": "code",
   "execution_count": null,
   "metadata": {},
   "outputs": [],
   "source": [
    "model = smf.ols(formula = 'Q(\"culture\") ~ Q(\"Q14\") + Q(\"Q10\") + Q(\"Parents\") + Q(\"Q13\")', data = df).fit()\n",
    "model.summary()"
   ]
  },
  {
   "cell_type": "code",
   "execution_count": null,
   "metadata": {},
   "outputs": [],
   "source": [
    "model = smf.ols(formula = 'Q(\"art\") ~ Q(\"Q14\") + Q(\"Q10\") * Q(\"Q17\") + Q(\"Parents\") + Q(\"Q13\")', data = df).fit()\n",
    "model.summary()"
   ]
  }
 ],
 "metadata": {
  "kernelspec": {
   "display_name": "Python 3",
   "language": "python",
   "name": "python3"
  },
  "language_info": {
   "codemirror_mode": {
    "name": "ipython",
    "version": 3
   },
   "file_extension": ".py",
   "mimetype": "text/x-python",
   "name": "python",
   "nbconvert_exporter": "python",
   "pygments_lexer": "ipython3",
   "version": "3.11.5"
  }
 },
 "nbformat": 4,
 "nbformat_minor": 2
}
