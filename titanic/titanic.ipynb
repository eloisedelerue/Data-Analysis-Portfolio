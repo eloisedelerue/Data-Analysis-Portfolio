{
 "cells": [
  {
   "cell_type": "markdown",
   "metadata": {},
   "source": [
    "# What Would Have Been Your Fate Aboard Titanic?"
   ]
  },
  {
   "cell_type": "markdown",
   "metadata": {},
   "source": [
    "**Author:** Eloïse Delerue\n",
    "\n",
    "**Date:** October 6th, 2024"
   ]
  },
  {
   "cell_type": "markdown",
   "metadata": {},
   "source": [
    "The tragic sinking of the Titanic on April 15th, 1912 caused the death of 1,502 people out of its 2,224 passengers and crew, making the incident one of the deadliest peacetime shipwrecks. If elements of luck were probably involved in surviving, could it be that other factors directly related to these people were also at play?\n",
    "\n",
    "**Objective: Predict a Titanic passenger's survival based on their data (genre, age, socio-economic class, etc.) using classification algorithms.**"
   ]
  },
  {
   "cell_type": "markdown",
   "metadata": {},
   "source": [
    "## 1. Library Import And Function Construction"
   ]
  },
  {
   "cell_type": "code",
   "execution_count": 221,
   "metadata": {},
   "outputs": [],
   "source": [
    "# Computing libraries\n",
    "import pandas as pd\n",
    "import numpy as np\n",
    "from sklearn.model_selection import train_test_split\n",
    "from sklearn.metrics import confusion_matrix, accuracy_score\n",
    "from sklearn.preprocessing import StandardScaler\n",
    "\n",
    "# Graphical libraries\n",
    "import matplotlib.pyplot as plt\n",
    "import seaborn as sns\n",
    "\n",
    "# Modelling libraries\n",
    "from sklearn.linear_model import LogisticRegression\n",
    "from sklearn.ensemble import RandomForestClassifier\n",
    "from sklearn.neural_network import MLPClassifier"
   ]
  },
  {
   "cell_type": "code",
   "execution_count": 222,
   "metadata": {},
   "outputs": [],
   "source": [
    "def plot_sorted_coefficients(coef, figure_number, threshold = 1e-08):\n",
    "    \"\"\"\n",
    "    Plots a sorted scatter plot of logistic regression coefficients with different colors\n",
    "    for positive, negative, and near-zero coefficients.\n",
    "    \n",
    "    Parameters:\n",
    "    - coef: A pandas Series or array-like object containing coefficients.\n",
    "    - figure_number: A numero that will appear in the figure title.\n",
    "    - threshold: A float value used to classify near-zero coefficients. Default is 1e-08.\n",
    "    \"\"\"\n",
    "\n",
    "    # Sort the coefficients by their absolute values\n",
    "    sorted_coef = coef.abs().sort_values()\n",
    "    \n",
    "    # Get the original coefficients for coloring\n",
    "    original_sorted_coef = coef.loc[sorted_coef.index]\n",
    "    \n",
    "    # Create a scatter plot with bars\n",
    "    plt.figure(figsize=(5, 5))\n",
    "    \n",
    "    # Plot positive coefficients in blue, negative coefficients in yellow, and near-zero coefficients in grey\n",
    "    colors = [\n",
    "        'grey' if abs(c) < threshold else 'blue' if c > 0 else 'yellow'\n",
    "        for c in original_sorted_coef\n",
    "    ]\n",
    "    \n",
    "    # Scatter plot for coefficients\n",
    "    plt.scatter(sorted_coef.values, sorted_coef.index, color = colors, zorder = 5)\n",
    "    \n",
    "    # Plot lines from the origin to the scatter points\n",
    "    for i in range(len(sorted_coef)):\n",
    "        plt.plot([0, sorted_coef.values[i]], [i, i], color = 'skyblue', lw = 2)\n",
    "    \n",
    "    # Add vertical line at zero\n",
    "    plt.axvline(x = 0, color = 'gray', linestyle = '--', linewidth = 1)\n",
    "    \n",
    "    # Set labels and title\n",
    "    plt.suptitle(f\"Figure {figure_number}\")\n",
    "    plt.xlabel('Absolute Coefficient Value')\n",
    "    plt.ylabel('Feature')\n",
    "    plt.title('Logistic Regression Coefficients (Absolute Values)')\n",
    "    \n",
    "    # Show the plot\n",
    "    plt.show()"
   ]
  },
  {
   "cell_type": "markdown",
   "metadata": {},
   "source": [
    "## 2. Data Import"
   ]
  },
  {
   "cell_type": "code",
   "execution_count": 223,
   "metadata": {},
   "outputs": [],
   "source": [
    "df = pd.read_csv(\"titanic.csv\")"
   ]
  },
  {
   "cell_type": "code",
   "execution_count": 224,
   "metadata": {},
   "outputs": [
    {
     "data": {
      "text/html": [
       "<div>\n",
       "<style scoped>\n",
       "    .dataframe tbody tr th:only-of-type {\n",
       "        vertical-align: middle;\n",
       "    }\n",
       "\n",
       "    .dataframe tbody tr th {\n",
       "        vertical-align: top;\n",
       "    }\n",
       "\n",
       "    .dataframe thead th {\n",
       "        text-align: right;\n",
       "    }\n",
       "</style>\n",
       "<table border=\"1\" class=\"dataframe\">\n",
       "  <thead>\n",
       "    <tr style=\"text-align: right;\">\n",
       "      <th></th>\n",
       "      <th>PassengerId</th>\n",
       "      <th>Survived</th>\n",
       "      <th>Pclass</th>\n",
       "      <th>Name</th>\n",
       "      <th>Sex</th>\n",
       "      <th>Age</th>\n",
       "      <th>SibSp</th>\n",
       "      <th>Parch</th>\n",
       "      <th>Ticket</th>\n",
       "      <th>Fare</th>\n",
       "      <th>Cabin</th>\n",
       "      <th>Embarked</th>\n",
       "    </tr>\n",
       "  </thead>\n",
       "  <tbody>\n",
       "    <tr>\n",
       "      <th>0</th>\n",
       "      <td>1</td>\n",
       "      <td>0</td>\n",
       "      <td>3</td>\n",
       "      <td>Braund, Mr. Owen Harris</td>\n",
       "      <td>male</td>\n",
       "      <td>22.0</td>\n",
       "      <td>1</td>\n",
       "      <td>0</td>\n",
       "      <td>A/5 21171</td>\n",
       "      <td>7.2500</td>\n",
       "      <td>NaN</td>\n",
       "      <td>S</td>\n",
       "    </tr>\n",
       "    <tr>\n",
       "      <th>1</th>\n",
       "      <td>2</td>\n",
       "      <td>1</td>\n",
       "      <td>1</td>\n",
       "      <td>Cumings, Mrs. John Bradley (Florence Briggs Th...</td>\n",
       "      <td>female</td>\n",
       "      <td>38.0</td>\n",
       "      <td>1</td>\n",
       "      <td>0</td>\n",
       "      <td>PC 17599</td>\n",
       "      <td>71.2833</td>\n",
       "      <td>C85</td>\n",
       "      <td>C</td>\n",
       "    </tr>\n",
       "    <tr>\n",
       "      <th>2</th>\n",
       "      <td>3</td>\n",
       "      <td>1</td>\n",
       "      <td>3</td>\n",
       "      <td>Heikkinen, Miss. Laina</td>\n",
       "      <td>female</td>\n",
       "      <td>26.0</td>\n",
       "      <td>0</td>\n",
       "      <td>0</td>\n",
       "      <td>STON/O2. 3101282</td>\n",
       "      <td>7.9250</td>\n",
       "      <td>NaN</td>\n",
       "      <td>S</td>\n",
       "    </tr>\n",
       "    <tr>\n",
       "      <th>3</th>\n",
       "      <td>4</td>\n",
       "      <td>1</td>\n",
       "      <td>1</td>\n",
       "      <td>Futrelle, Mrs. Jacques Heath (Lily May Peel)</td>\n",
       "      <td>female</td>\n",
       "      <td>35.0</td>\n",
       "      <td>1</td>\n",
       "      <td>0</td>\n",
       "      <td>113803</td>\n",
       "      <td>53.1000</td>\n",
       "      <td>C123</td>\n",
       "      <td>S</td>\n",
       "    </tr>\n",
       "    <tr>\n",
       "      <th>4</th>\n",
       "      <td>5</td>\n",
       "      <td>0</td>\n",
       "      <td>3</td>\n",
       "      <td>Allen, Mr. William Henry</td>\n",
       "      <td>male</td>\n",
       "      <td>35.0</td>\n",
       "      <td>0</td>\n",
       "      <td>0</td>\n",
       "      <td>373450</td>\n",
       "      <td>8.0500</td>\n",
       "      <td>NaN</td>\n",
       "      <td>S</td>\n",
       "    </tr>\n",
       "    <tr>\n",
       "      <th>...</th>\n",
       "      <td>...</td>\n",
       "      <td>...</td>\n",
       "      <td>...</td>\n",
       "      <td>...</td>\n",
       "      <td>...</td>\n",
       "      <td>...</td>\n",
       "      <td>...</td>\n",
       "      <td>...</td>\n",
       "      <td>...</td>\n",
       "      <td>...</td>\n",
       "      <td>...</td>\n",
       "      <td>...</td>\n",
       "    </tr>\n",
       "    <tr>\n",
       "      <th>1304</th>\n",
       "      <td>1305</td>\n",
       "      <td>0</td>\n",
       "      <td>3</td>\n",
       "      <td>Spector, Mr. Woolf</td>\n",
       "      <td>male</td>\n",
       "      <td>NaN</td>\n",
       "      <td>0</td>\n",
       "      <td>0</td>\n",
       "      <td>A.5. 3236</td>\n",
       "      <td>8.0500</td>\n",
       "      <td>NaN</td>\n",
       "      <td>S</td>\n",
       "    </tr>\n",
       "    <tr>\n",
       "      <th>1305</th>\n",
       "      <td>1306</td>\n",
       "      <td>1</td>\n",
       "      <td>1</td>\n",
       "      <td>Oliva y Ocana, Dona. Fermina</td>\n",
       "      <td>female</td>\n",
       "      <td>39.0</td>\n",
       "      <td>0</td>\n",
       "      <td>0</td>\n",
       "      <td>PC 17758</td>\n",
       "      <td>108.9000</td>\n",
       "      <td>C105</td>\n",
       "      <td>C</td>\n",
       "    </tr>\n",
       "    <tr>\n",
       "      <th>1306</th>\n",
       "      <td>1307</td>\n",
       "      <td>0</td>\n",
       "      <td>3</td>\n",
       "      <td>Saether, Mr. Simon Sivertsen</td>\n",
       "      <td>male</td>\n",
       "      <td>38.5</td>\n",
       "      <td>0</td>\n",
       "      <td>0</td>\n",
       "      <td>SOTON/O.Q. 3101262</td>\n",
       "      <td>7.2500</td>\n",
       "      <td>NaN</td>\n",
       "      <td>S</td>\n",
       "    </tr>\n",
       "    <tr>\n",
       "      <th>1307</th>\n",
       "      <td>1308</td>\n",
       "      <td>0</td>\n",
       "      <td>3</td>\n",
       "      <td>Ware, Mr. Frederick</td>\n",
       "      <td>male</td>\n",
       "      <td>NaN</td>\n",
       "      <td>0</td>\n",
       "      <td>0</td>\n",
       "      <td>359309</td>\n",
       "      <td>8.0500</td>\n",
       "      <td>NaN</td>\n",
       "      <td>S</td>\n",
       "    </tr>\n",
       "    <tr>\n",
       "      <th>1308</th>\n",
       "      <td>1309</td>\n",
       "      <td>0</td>\n",
       "      <td>3</td>\n",
       "      <td>Peter, Master. Michael J</td>\n",
       "      <td>male</td>\n",
       "      <td>NaN</td>\n",
       "      <td>1</td>\n",
       "      <td>1</td>\n",
       "      <td>2668</td>\n",
       "      <td>22.3583</td>\n",
       "      <td>NaN</td>\n",
       "      <td>C</td>\n",
       "    </tr>\n",
       "  </tbody>\n",
       "</table>\n",
       "<p>1309 rows × 12 columns</p>\n",
       "</div>"
      ],
      "text/plain": [
       "      PassengerId  Survived  Pclass  \\\n",
       "0               1         0       3   \n",
       "1               2         1       1   \n",
       "2               3         1       3   \n",
       "3               4         1       1   \n",
       "4               5         0       3   \n",
       "...           ...       ...     ...   \n",
       "1304         1305         0       3   \n",
       "1305         1306         1       1   \n",
       "1306         1307         0       3   \n",
       "1307         1308         0       3   \n",
       "1308         1309         0       3   \n",
       "\n",
       "                                                   Name     Sex   Age  SibSp  \\\n",
       "0                               Braund, Mr. Owen Harris    male  22.0      1   \n",
       "1     Cumings, Mrs. John Bradley (Florence Briggs Th...  female  38.0      1   \n",
       "2                                Heikkinen, Miss. Laina  female  26.0      0   \n",
       "3          Futrelle, Mrs. Jacques Heath (Lily May Peel)  female  35.0      1   \n",
       "4                              Allen, Mr. William Henry    male  35.0      0   \n",
       "...                                                 ...     ...   ...    ...   \n",
       "1304                                 Spector, Mr. Woolf    male   NaN      0   \n",
       "1305                       Oliva y Ocana, Dona. Fermina  female  39.0      0   \n",
       "1306                       Saether, Mr. Simon Sivertsen    male  38.5      0   \n",
       "1307                                Ware, Mr. Frederick    male   NaN      0   \n",
       "1308                           Peter, Master. Michael J    male   NaN      1   \n",
       "\n",
       "      Parch              Ticket      Fare Cabin Embarked  \n",
       "0         0           A/5 21171    7.2500   NaN        S  \n",
       "1         0            PC 17599   71.2833   C85        C  \n",
       "2         0    STON/O2. 3101282    7.9250   NaN        S  \n",
       "3         0              113803   53.1000  C123        S  \n",
       "4         0              373450    8.0500   NaN        S  \n",
       "...     ...                 ...       ...   ...      ...  \n",
       "1304      0           A.5. 3236    8.0500   NaN        S  \n",
       "1305      0            PC 17758  108.9000  C105        C  \n",
       "1306      0  SOTON/O.Q. 3101262    7.2500   NaN        S  \n",
       "1307      0              359309    8.0500   NaN        S  \n",
       "1308      1                2668   22.3583   NaN        C  \n",
       "\n",
       "[1309 rows x 12 columns]"
      ]
     },
     "execution_count": 224,
     "metadata": {},
     "output_type": "execute_result"
    }
   ],
   "source": [
    "pd.set_option('display.max_columns', None)\n",
    "df"
   ]
  },
  {
   "cell_type": "markdown",
   "metadata": {},
   "source": [
    "## 3. Data Description"
   ]
  },
  {
   "cell_type": "code",
   "execution_count": 225,
   "metadata": {},
   "outputs": [
    {
     "data": {
      "text/html": [
       "<div>\n",
       "<style scoped>\n",
       "    .dataframe tbody tr th:only-of-type {\n",
       "        vertical-align: middle;\n",
       "    }\n",
       "\n",
       "    .dataframe tbody tr th {\n",
       "        vertical-align: top;\n",
       "    }\n",
       "\n",
       "    .dataframe thead th {\n",
       "        text-align: right;\n",
       "    }\n",
       "</style>\n",
       "<table border=\"1\" class=\"dataframe\">\n",
       "  <thead>\n",
       "    <tr style=\"text-align: right;\">\n",
       "      <th></th>\n",
       "      <th>PassengerId</th>\n",
       "      <th>Survived</th>\n",
       "      <th>Pclass</th>\n",
       "      <th>Age</th>\n",
       "      <th>SibSp</th>\n",
       "      <th>Parch</th>\n",
       "      <th>Fare</th>\n",
       "    </tr>\n",
       "  </thead>\n",
       "  <tbody>\n",
       "    <tr>\n",
       "      <th>count</th>\n",
       "      <td>1309.000000</td>\n",
       "      <td>1309.000000</td>\n",
       "      <td>1309.000000</td>\n",
       "      <td>1046.000000</td>\n",
       "      <td>1309.000000</td>\n",
       "      <td>1309.000000</td>\n",
       "      <td>1308.000000</td>\n",
       "    </tr>\n",
       "    <tr>\n",
       "      <th>mean</th>\n",
       "      <td>655.000000</td>\n",
       "      <td>0.377387</td>\n",
       "      <td>2.294882</td>\n",
       "      <td>29.881138</td>\n",
       "      <td>0.498854</td>\n",
       "      <td>0.385027</td>\n",
       "      <td>33.295479</td>\n",
       "    </tr>\n",
       "    <tr>\n",
       "      <th>std</th>\n",
       "      <td>378.020061</td>\n",
       "      <td>0.484918</td>\n",
       "      <td>0.837836</td>\n",
       "      <td>14.413493</td>\n",
       "      <td>1.041658</td>\n",
       "      <td>0.865560</td>\n",
       "      <td>51.758668</td>\n",
       "    </tr>\n",
       "    <tr>\n",
       "      <th>min</th>\n",
       "      <td>1.000000</td>\n",
       "      <td>0.000000</td>\n",
       "      <td>1.000000</td>\n",
       "      <td>0.170000</td>\n",
       "      <td>0.000000</td>\n",
       "      <td>0.000000</td>\n",
       "      <td>0.000000</td>\n",
       "    </tr>\n",
       "    <tr>\n",
       "      <th>25%</th>\n",
       "      <td>328.000000</td>\n",
       "      <td>0.000000</td>\n",
       "      <td>2.000000</td>\n",
       "      <td>21.000000</td>\n",
       "      <td>0.000000</td>\n",
       "      <td>0.000000</td>\n",
       "      <td>7.895800</td>\n",
       "    </tr>\n",
       "    <tr>\n",
       "      <th>50%</th>\n",
       "      <td>655.000000</td>\n",
       "      <td>0.000000</td>\n",
       "      <td>3.000000</td>\n",
       "      <td>28.000000</td>\n",
       "      <td>0.000000</td>\n",
       "      <td>0.000000</td>\n",
       "      <td>14.454200</td>\n",
       "    </tr>\n",
       "    <tr>\n",
       "      <th>75%</th>\n",
       "      <td>982.000000</td>\n",
       "      <td>1.000000</td>\n",
       "      <td>3.000000</td>\n",
       "      <td>39.000000</td>\n",
       "      <td>1.000000</td>\n",
       "      <td>0.000000</td>\n",
       "      <td>31.275000</td>\n",
       "    </tr>\n",
       "    <tr>\n",
       "      <th>max</th>\n",
       "      <td>1309.000000</td>\n",
       "      <td>1.000000</td>\n",
       "      <td>3.000000</td>\n",
       "      <td>80.000000</td>\n",
       "      <td>8.000000</td>\n",
       "      <td>9.000000</td>\n",
       "      <td>512.329200</td>\n",
       "    </tr>\n",
       "  </tbody>\n",
       "</table>\n",
       "</div>"
      ],
      "text/plain": [
       "       PassengerId     Survived       Pclass          Age        SibSp  \\\n",
       "count  1309.000000  1309.000000  1309.000000  1046.000000  1309.000000   \n",
       "mean    655.000000     0.377387     2.294882    29.881138     0.498854   \n",
       "std     378.020061     0.484918     0.837836    14.413493     1.041658   \n",
       "min       1.000000     0.000000     1.000000     0.170000     0.000000   \n",
       "25%     328.000000     0.000000     2.000000    21.000000     0.000000   \n",
       "50%     655.000000     0.000000     3.000000    28.000000     0.000000   \n",
       "75%     982.000000     1.000000     3.000000    39.000000     1.000000   \n",
       "max    1309.000000     1.000000     3.000000    80.000000     8.000000   \n",
       "\n",
       "             Parch         Fare  \n",
       "count  1309.000000  1308.000000  \n",
       "mean      0.385027    33.295479  \n",
       "std       0.865560    51.758668  \n",
       "min       0.000000     0.000000  \n",
       "25%       0.000000     7.895800  \n",
       "50%       0.000000    14.454200  \n",
       "75%       0.000000    31.275000  \n",
       "max       9.000000   512.329200  "
      ]
     },
     "execution_count": 225,
     "metadata": {},
     "output_type": "execute_result"
    }
   ],
   "source": [
    "df.describe()"
   ]
  },
  {
   "cell_type": "code",
   "execution_count": 226,
   "metadata": {},
   "outputs": [
    {
     "data": {
      "text/plain": [
       "Text(0, 0.5, 'Number of people')"
      ]
     },
     "execution_count": 226,
     "metadata": {},
     "output_type": "execute_result"
    },
    {
     "data": {
      "image/png": "[encoded data removed]",
      "text/plain": [
       "<Figure size 200x200 with 1 Axes>"
      ]
     },
     "metadata": {},
     "output_type": "display_data"
    }
   ],
   "source": [
    "# Predicted variable\n",
    "survival = df['Survived'].value_counts()\n",
    "plt.figure(figsize = (2, 2))\n",
    "plt.title(\"Figure 1\")\n",
    "sns.barplot(x = survival.index, y = survival.values)\n",
    "plt.ylabel('Number of people')"
   ]
  },
  {
   "cell_type": "code",
   "execution_count": 227,
   "metadata": {},
   "outputs": [
    {
     "data": {
      "image/png": "[encoded data removed]",
      "text/plain": [
       "<Figure size 800x800 with 9 Axes>"
      ]
     },
     "metadata": {},
     "output_type": "display_data"
    }
   ],
   "source": [
    "fig2, ax = plt.subplots(3,3)\n",
    "plt.suptitle(\"Figure 2\")\n",
    "fig2.set_figheight(8)\n",
    "fig2.set_figwidth(8)\n",
    "fig2.tight_layout(w_pad=2, h_pad=5)\n",
    "\n",
    "sns.countplot(x=df[\"Pclass\"], ax=ax[0][0])\n",
    "ax[0][0].set(xlabel = 'Passenger Class', ylabel = 'Count')\n",
    "\n",
    "sns.countplot(x=df[\"Sex\"], ax=ax[0][1])\n",
    "ax[0][1].set(xlabel = 'Passenger Genre', ylabel = 'Count')\n",
    "\n",
    "sns.histplot(x=df[\"Age\"], ax=ax[0][2], bins=13)\n",
    "ax[0][2].set(xlabel = 'Passenger Age', ylabel = 'Count')\n",
    "\n",
    "sns.countplot(x=df[\"SibSp\"], ax=ax[1][0])\n",
    "ax[1][0].set(xlabel = \"Passenger Number of Siblings\\nor Spouses aboard the Titanic\", ylabel = 'Count')\n",
    "\n",
    "sns.countplot(x=df[\"Parch\"], ax=ax[1][1])\n",
    "ax[1][1].set(xlabel = \"Passenger Number of Parents\\nor Children aboard the Titanic\", ylabel = 'Count')\n",
    "\n",
    "sns.histplot(x=df[\"Fare\"], ax=ax[1][2], bins=13)\n",
    "ax[1][2].set(xlabel = \"Passenger Fare\", ylabel = 'Count')\n",
    "\n",
    "ax[2][0].set_visible(False)\n",
    "\n",
    "sns.countplot(x=df[\"Embarked\"], ax=ax[2][1])\n",
    "ax[2][1].set(xlabel = \"Passenger Port of Embarkation\\nS = Southampton C = Cherbourg Q = Queenstown\", ylabel = 'Count')\n",
    "\n",
    "ax[2][2].set_visible(False)\n",
    "\n",
    "plt.tight_layout()"
   ]
  },
  {
   "cell_type": "markdown",
   "metadata": {},
   "source": [
    "## 4. Data Standardisation"
   ]
  },
  {
   "cell_type": "code",
   "execution_count": 228,
   "metadata": {},
   "outputs": [
    {
     "name": "stderr",
     "output_type": "stream",
     "text": [
      "C:\\Users\\elois\\AppData\\Local\\Temp\\ipykernel_15252\\283708308.py:5: FutureWarning: Downcasting behavior in `replace` is deprecated and will be removed in a future version. To retain the old behavior, explicitly call `result.infer_objects(copy=False)`. To opt-in to the future behavior, set `pd.set_option('future.no_silent_downcasting', True)`\n",
      "  df['Sex'] = df['Sex'].replace({'male': 0, 'female': 1})\n"
     ]
    }
   ],
   "source": [
    "# Separate the target variable from the rest of the dataset\n",
    "y = df['Survived']\n",
    "\n",
    "# Binarise data\n",
    "df['Sex'] = df['Sex'].replace({'male': 0, 'female': 1})\n",
    "\n",
    "# Transform the 'Embarked' column into dummy/boolean columns\n",
    "df = pd.get_dummies(df, columns = ['Embarked'], drop_first = True)\n",
    "\n",
    "# Drop the target variable and the unused columns\n",
    "features = df.drop(columns=['Survived','PassengerId','Name','Ticket','Cabin'])\n",
    "\n",
    "# Standardize the features\n",
    "scaler = StandardScaler()\n",
    "X = scaler.fit_transform(features)\n",
    "X = pd.DataFrame(X, columns = features.columns)\n",
    "\n",
    "# Merge the data\n",
    "df = X.copy()\n",
    "df['Survived'] = y\n",
    "\n",
    "# Drop the lines with NaN\n",
    "df = df.dropna(how='any')"
   ]
  },
  {
   "cell_type": "code",
   "execution_count": 229,
   "metadata": {},
   "outputs": [
    {
     "data": {
      "text/html": [
       "<div>\n",
       "<style scoped>\n",
       "    .dataframe tbody tr th:only-of-type {\n",
       "        vertical-align: middle;\n",
       "    }\n",
       "\n",
       "    .dataframe tbody tr th {\n",
       "        vertical-align: top;\n",
       "    }\n",
       "\n",
       "    .dataframe thead th {\n",
       "        text-align: right;\n",
       "    }\n",
       "</style>\n",
       "<table border=\"1\" class=\"dataframe\">\n",
       "  <thead>\n",
       "    <tr style=\"text-align: right;\">\n",
       "      <th></th>\n",
       "      <th>Pclass</th>\n",
       "      <th>Sex</th>\n",
       "      <th>Age</th>\n",
       "      <th>SibSp</th>\n",
       "      <th>Parch</th>\n",
       "      <th>Fare</th>\n",
       "      <th>Embarked_Q</th>\n",
       "      <th>Embarked_S</th>\n",
       "      <th>Survived</th>\n",
       "    </tr>\n",
       "  </thead>\n",
       "  <tbody>\n",
       "    <tr>\n",
       "      <th>0</th>\n",
       "      <td>0.841916</td>\n",
       "      <td>-0.743497</td>\n",
       "      <td>-0.547050</td>\n",
       "      <td>0.481288</td>\n",
       "      <td>-0.445000</td>\n",
       "      <td>-0.503402</td>\n",
       "      <td>-0.322040</td>\n",
       "      <td>0.657394</td>\n",
       "      <td>0</td>\n",
       "    </tr>\n",
       "    <tr>\n",
       "      <th>1</th>\n",
       "      <td>-1.546098</td>\n",
       "      <td>1.344995</td>\n",
       "      <td>0.563552</td>\n",
       "      <td>0.481288</td>\n",
       "      <td>-0.445000</td>\n",
       "      <td>0.734222</td>\n",
       "      <td>-0.322040</td>\n",
       "      <td>-1.521159</td>\n",
       "      <td>1</td>\n",
       "    </tr>\n",
       "    <tr>\n",
       "      <th>2</th>\n",
       "      <td>0.841916</td>\n",
       "      <td>1.344995</td>\n",
       "      <td>-0.269400</td>\n",
       "      <td>-0.479087</td>\n",
       "      <td>-0.445000</td>\n",
       "      <td>-0.490356</td>\n",
       "      <td>-0.322040</td>\n",
       "      <td>0.657394</td>\n",
       "      <td>1</td>\n",
       "    </tr>\n",
       "    <tr>\n",
       "      <th>3</th>\n",
       "      <td>-1.546098</td>\n",
       "      <td>1.344995</td>\n",
       "      <td>0.355314</td>\n",
       "      <td>0.481288</td>\n",
       "      <td>-0.445000</td>\n",
       "      <td>0.382778</td>\n",
       "      <td>-0.322040</td>\n",
       "      <td>0.657394</td>\n",
       "      <td>1</td>\n",
       "    </tr>\n",
       "    <tr>\n",
       "      <th>4</th>\n",
       "      <td>0.841916</td>\n",
       "      <td>-0.743497</td>\n",
       "      <td>0.355314</td>\n",
       "      <td>-0.479087</td>\n",
       "      <td>-0.445000</td>\n",
       "      <td>-0.487940</td>\n",
       "      <td>-0.322040</td>\n",
       "      <td>0.657394</td>\n",
       "      <td>0</td>\n",
       "    </tr>\n",
       "    <tr>\n",
       "      <th>...</th>\n",
       "      <td>...</td>\n",
       "      <td>...</td>\n",
       "      <td>...</td>\n",
       "      <td>...</td>\n",
       "      <td>...</td>\n",
       "      <td>...</td>\n",
       "      <td>...</td>\n",
       "      <td>...</td>\n",
       "      <td>...</td>\n",
       "    </tr>\n",
       "    <tr>\n",
       "      <th>1300</th>\n",
       "      <td>0.841916</td>\n",
       "      <td>1.344995</td>\n",
       "      <td>-1.865890</td>\n",
       "      <td>0.481288</td>\n",
       "      <td>0.710763</td>\n",
       "      <td>-0.377288</td>\n",
       "      <td>-0.322040</td>\n",
       "      <td>0.657394</td>\n",
       "      <td>1</td>\n",
       "    </tr>\n",
       "    <tr>\n",
       "      <th>1302</th>\n",
       "      <td>-1.546098</td>\n",
       "      <td>1.344995</td>\n",
       "      <td>0.494139</td>\n",
       "      <td>0.481288</td>\n",
       "      <td>-0.445000</td>\n",
       "      <td>1.095975</td>\n",
       "      <td>3.105202</td>\n",
       "      <td>-1.521159</td>\n",
       "      <td>1</td>\n",
       "    </tr>\n",
       "    <tr>\n",
       "      <th>1303</th>\n",
       "      <td>0.841916</td>\n",
       "      <td>1.344995</td>\n",
       "      <td>-0.130575</td>\n",
       "      <td>-0.479087</td>\n",
       "      <td>-0.445000</td>\n",
       "      <td>-0.493255</td>\n",
       "      <td>-0.322040</td>\n",
       "      <td>0.657394</td>\n",
       "      <td>1</td>\n",
       "    </tr>\n",
       "    <tr>\n",
       "      <th>1305</th>\n",
       "      <td>-1.546098</td>\n",
       "      <td>1.344995</td>\n",
       "      <td>0.632964</td>\n",
       "      <td>-0.479087</td>\n",
       "      <td>-0.445000</td>\n",
       "      <td>1.461271</td>\n",
       "      <td>-0.322040</td>\n",
       "      <td>-1.521159</td>\n",
       "      <td>1</td>\n",
       "    </tr>\n",
       "    <tr>\n",
       "      <th>1306</th>\n",
       "      <td>0.841916</td>\n",
       "      <td>-0.743497</td>\n",
       "      <td>0.598258</td>\n",
       "      <td>-0.479087</td>\n",
       "      <td>-0.445000</td>\n",
       "      <td>-0.503402</td>\n",
       "      <td>-0.322040</td>\n",
       "      <td>0.657394</td>\n",
       "      <td>0</td>\n",
       "    </tr>\n",
       "  </tbody>\n",
       "</table>\n",
       "<p>1045 rows × 9 columns</p>\n",
       "</div>"
      ],
      "text/plain": [
       "        Pclass       Sex       Age     SibSp     Parch      Fare  Embarked_Q  \\\n",
       "0     0.841916 -0.743497 -0.547050  0.481288 -0.445000 -0.503402   -0.322040   \n",
       "1    -1.546098  1.344995  0.563552  0.481288 -0.445000  0.734222   -0.322040   \n",
       "2     0.841916  1.344995 -0.269400 -0.479087 -0.445000 -0.490356   -0.322040   \n",
       "3    -1.546098  1.344995  0.355314  0.481288 -0.445000  0.382778   -0.322040   \n",
       "4     0.841916 -0.743497  0.355314 -0.479087 -0.445000 -0.487940   -0.322040   \n",
       "...        ...       ...       ...       ...       ...       ...         ...   \n",
       "1300  0.841916  1.344995 -1.865890  0.481288  0.710763 -0.377288   -0.322040   \n",
       "1302 -1.546098  1.344995  0.494139  0.481288 -0.445000  1.095975    3.105202   \n",
       "1303  0.841916  1.344995 -0.130575 -0.479087 -0.445000 -0.493255   -0.322040   \n",
       "1305 -1.546098  1.344995  0.632964 -0.479087 -0.445000  1.461271   -0.322040   \n",
       "1306  0.841916 -0.743497  0.598258 -0.479087 -0.445000 -0.503402   -0.322040   \n",
       "\n",
       "      Embarked_S  Survived  \n",
       "0       0.657394         0  \n",
       "1      -1.521159         1  \n",
       "2       0.657394         1  \n",
       "3       0.657394         1  \n",
       "4       0.657394         0  \n",
       "...          ...       ...  \n",
       "1300    0.657394         1  \n",
       "1302   -1.521159         1  \n",
       "1303    0.657394         1  \n",
       "1305   -1.521159         1  \n",
       "1306    0.657394         0  \n",
       "\n",
       "[1045 rows x 9 columns]"
      ]
     },
     "execution_count": 229,
     "metadata": {},
     "output_type": "execute_result"
    }
   ],
   "source": [
    "df"
   ]
  },
  {
   "cell_type": "markdown",
   "metadata": {},
   "source": [
    "## 5. Train/Test Split"
   ]
  },
  {
   "cell_type": "code",
   "execution_count": 230,
   "metadata": {},
   "outputs": [],
   "source": [
    "# Splitting the dataset into train and test\n",
    "X = df.drop(\"Survived\", axis = 1)\n",
    "y = df[\"Survived\"]\n",
    "\n",
    "X_train, X_test, y_train, y_test = train_test_split(X, y, test_size = 0.2, random_state = 666)"
   ]
  },
  {
   "cell_type": "markdown",
   "metadata": {},
   "source": [
    "## 6. Data Modelling"
   ]
  },
  {
   "cell_type": "markdown",
   "metadata": {},
   "source": [
    "### 6.1. Model 1 - Logistic Regression"
   ]
  },
  {
   "cell_type": "code",
   "execution_count": 231,
   "metadata": {},
   "outputs": [],
   "source": [
    "# Performing Logistic Regression\n",
    "reg = LogisticRegression(max_iter = 100)\n",
    "reg.fit(X_train, y_train)\n",
    "\n",
    "coef = pd.Series(reg.coef_.flatten(), index = X_train.columns)"
   ]
  },
  {
   "cell_type": "code",
   "execution_count": 232,
   "metadata": {},
   "outputs": [],
   "source": [
    "# Test the logistic regression\n",
    "y_pred_1 = reg.predict(X_test)"
   ]
  },
  {
   "cell_type": "code",
   "execution_count": 233,
   "metadata": {},
   "outputs": [
    {
     "name": "stdout",
     "output_type": "stream",
     "text": [
      "Confusion Matrix:\n",
      "          Predicted Died  Predicted Survived\n",
      "Died                 117                  16\n",
      "Survived              23                  53\n"
     ]
    }
   ],
   "source": [
    "# Confusion matrix\n",
    "cm_1 = confusion_matrix(y_test, y_pred_1)\n",
    "cm_df_1 = pd.DataFrame(cm_1, index=['Died', 'Survived'], columns=['Predicted Died', 'Predicted Survived'])\n",
    "print(\"Confusion Matrix:\")\n",
    "print(cm_df_1)"
   ]
  },
  {
   "cell_type": "code",
   "execution_count": 234,
   "metadata": {},
   "outputs": [
    {
     "data": {
      "text/plain": [
       "0.8133971291866029"
      ]
     },
     "execution_count": 234,
     "metadata": {},
     "output_type": "execute_result"
    }
   ],
   "source": [
    "accuracy_score(y_test, y_pred_1)"
   ]
  },
  {
   "cell_type": "code",
   "execution_count": 235,
   "metadata": {},
   "outputs": [
    {
     "data": {
      "image/png": "[encoded data removed]",
      "text/plain": [
       "<Figure size 500x500 with 1 Axes>"
      ]
     },
     "metadata": {},
     "output_type": "display_data"
    }
   ],
   "source": [
    "plot_sorted_coefficients(coef,3)"
   ]
  },
  {
   "cell_type": "markdown",
   "metadata": {},
   "source": [
    "### 6.2. Model 2 - Logistic Regression With L1 Regularisation"
   ]
  },
  {
   "cell_type": "code",
   "execution_count": 236,
   "metadata": {},
   "outputs": [],
   "source": [
    "# Performing Logistic Regression\n",
    "reg_l1 = LogisticRegression(C = 0.05, solver = 'saga', penalty = 'l1', max_iter = 100)\n",
    "reg_l1.fit(X_train, y_train)\n",
    "\n",
    "coef = pd.Series(reg_l1.coef_.flatten(), index = X_train.columns)"
   ]
  },
  {
   "cell_type": "code",
   "execution_count": 237,
   "metadata": {},
   "outputs": [],
   "source": [
    "# Test the logistic regression\n",
    "y_pred_2 = reg_l1.predict(X_test)"
   ]
  },
  {
   "cell_type": "code",
   "execution_count": 238,
   "metadata": {},
   "outputs": [
    {
     "name": "stdout",
     "output_type": "stream",
     "text": [
      "Confusion Matrix:\n",
      "          Predicted Died  Predicted Survived\n",
      "Died                 120                  13\n",
      "Survived              24                  52\n"
     ]
    }
   ],
   "source": [
    "# Confusion matrix\n",
    "cm_2 = confusion_matrix(y_test, y_pred_2)\n",
    "cm_df_2 = pd.DataFrame(cm_2, index=['Died', 'Survived'], columns=['Predicted Died', 'Predicted Survived'])\n",
    "print(\"Confusion Matrix:\")\n",
    "print(cm_df_2)"
   ]
  },
  {
   "cell_type": "code",
   "execution_count": 239,
   "metadata": {},
   "outputs": [
    {
     "data": {
      "text/plain": [
       "0.8229665071770335"
      ]
     },
     "execution_count": 239,
     "metadata": {},
     "output_type": "execute_result"
    }
   ],
   "source": [
    "accuracy_score(y_test, y_pred_2)"
   ]
  },
  {
   "cell_type": "code",
   "execution_count": 240,
   "metadata": {},
   "outputs": [
    {
     "data": {
      "image/png": "[encoded data removed]",
      "text/plain": [
       "<Figure size 500x500 with 1 Axes>"
      ]
     },
     "metadata": {},
     "output_type": "display_data"
    }
   ],
   "source": [
    "plot_sorted_coefficients(coef,4)"
   ]
  },
  {
   "cell_type": "markdown",
   "metadata": {},
   "source": [
    "### 6.3. Model 3 - Random Forest"
   ]
  },
  {
   "cell_type": "code",
   "execution_count": 241,
   "metadata": {},
   "outputs": [],
   "source": [
    "# Construct the random forest\n",
    "model = RandomForestClassifier(n_estimators = 1000, random_state = 666, max_depth = 8)\n",
    "model.fit(X_train, y_train)\n",
    "\n",
    "y_pred_3 = model.predict(X_test)"
   ]
  },
  {
   "cell_type": "code",
   "execution_count": 242,
   "metadata": {},
   "outputs": [
    {
     "name": "stdout",
     "output_type": "stream",
     "text": [
      "Confusion Matrix:\n",
      "          Predicted Died  Predicted Survived\n",
      "Died                 119                  14\n",
      "Survived              23                  53\n"
     ]
    }
   ],
   "source": [
    "# Confusion matrix\n",
    "cm_3 = confusion_matrix(y_test, y_pred_3)\n",
    "cm_df_3 = pd.DataFrame(cm_3, index=['Died', 'Survived'], columns=['Predicted Died', 'Predicted Survived'])\n",
    "print(\"Confusion Matrix:\")\n",
    "print(cm_df_3)"
   ]
  },
  {
   "cell_type": "code",
   "execution_count": 243,
   "metadata": {},
   "outputs": [
    {
     "data": {
      "text/plain": [
       "0.8229665071770335"
      ]
     },
     "execution_count": 243,
     "metadata": {},
     "output_type": "execute_result"
    }
   ],
   "source": [
    "accuracy_score(y_test, y_pred_3)"
   ]
  },
  {
   "cell_type": "code",
   "execution_count": 244,
   "metadata": {},
   "outputs": [
    {
     "data": {
      "image/png": "[encoded data removed]",
      "text/plain": [
       "<Figure size 500x500 with 1 Axes>"
      ]
     },
     "metadata": {},
     "output_type": "display_data"
    }
   ],
   "source": [
    "# Plot the feature importances\n",
    "importances = model.feature_importances_\n",
    "indices = np.argsort(importances)[::-1]\n",
    "\n",
    "plt.figure(figsize=(5, 5))\n",
    "plt.suptitle(\"Figure 5\")\n",
    "plt.title(\"Feature Importances\")\n",
    "plt.barh(range(X_train.shape[1]), importances[indices], align = \"center\")\n",
    "plt.yticks(ticks = range(X_train.shape[1]), labels = [X_train.columns[i] for i in indices])\n",
    "plt.xlabel(\"Importance\")\n",
    "plt.ylabel(\"Features\")\n",
    "plt.gca().invert_yaxis()  # To have the most important feature at the top\n",
    "plt.show()"
   ]
  },
  {
   "cell_type": "markdown",
   "metadata": {},
   "source": [
    "### 6.4. Model 4 - Neural Network"
   ]
  },
  {
   "cell_type": "markdown",
   "metadata": {},
   "source": [
    "#### 6.4.1. Model 4.1 - Neural Network Without Regularisation"
   ]
  },
  {
   "cell_type": "code",
   "execution_count": 245,
   "metadata": {},
   "outputs": [
    {
     "name": "stdout",
     "output_type": "stream",
     "text": [
      "Iteration 1, loss = 0.66684833\n",
      "Iteration 2, loss = 0.59409777\n",
      "Iteration 3, loss = 0.53953088\n",
      "Iteration 4, loss = 0.49371936\n",
      "Iteration 5, loss = 0.45685279\n",
      "Iteration 6, loss = 0.42631629\n",
      "Iteration 7, loss = 0.40177658\n",
      "Iteration 8, loss = 0.38421282\n",
      "Iteration 9, loss = 0.37176298\n",
      "Iteration 10, loss = 0.36321724\n",
      "Iteration 11, loss = 0.35679508\n",
      "Iteration 12, loss = 0.35271182\n",
      "Iteration 13, loss = 0.34996700\n",
      "Iteration 14, loss = 0.34680947\n",
      "Iteration 15, loss = 0.34474821\n",
      "Iteration 16, loss = 0.34343640\n",
      "Iteration 17, loss = 0.34121190\n",
      "Iteration 18, loss = 0.33922090\n",
      "Iteration 19, loss = 0.33798040\n",
      "Iteration 20, loss = 0.33631666\n",
      "Training loss did not improve more than tol=0.010000 for 10 consecutive epochs. Stopping.\n"
     ]
    }
   ],
   "source": [
    "# Neural Network with three hidden layers ([100,50] neurons)\n",
    "clf_150_neurons = MLPClassifier(hidden_layer_sizes=(100,50), activation = 'relu',\n",
    "                              solver='adam', max_iter = 100, alpha=0, tol = 1e-2, batch_size= 200,\n",
    "                              random_state = 666, verbose = True\n",
    "                              )\n",
    "\n",
    "# Train the network\n",
    "clf_150_neurons.fit(X_train, y_train)\n",
    "\n",
    "# Predict on the test set\n",
    "y_pred_4_1 = clf_150_neurons.predict(X_test)"
   ]
  },
  {
   "cell_type": "code",
   "execution_count": 246,
   "metadata": {},
   "outputs": [
    {
     "name": "stdout",
     "output_type": "stream",
     "text": [
      "Confusion Matrix:\n",
      "          Predicted Died  Predicted Survived\n",
      "Died                 123                  10\n",
      "Survived              21                  55\n"
     ]
    }
   ],
   "source": [
    "# Confusion matrix\n",
    "cm_4_1 = confusion_matrix(y_test, y_pred_4_1)\n",
    "cm_df_4_1 = pd.DataFrame(cm_4_1, index=['Died', 'Survived'], columns=['Predicted Died', 'Predicted Survived'])\n",
    "print(\"Confusion Matrix:\")\n",
    "print(cm_df_4_1)"
   ]
  },
  {
   "cell_type": "code",
   "execution_count": 247,
   "metadata": {},
   "outputs": [
    {
     "data": {
      "text/plain": [
       "0.8516746411483254"
      ]
     },
     "execution_count": 247,
     "metadata": {},
     "output_type": "execute_result"
    }
   ],
   "source": [
    "accuracy_score(y_test, y_pred_4_1)"
   ]
  },
  {
   "cell_type": "code",
   "execution_count": 248,
   "metadata": {},
   "outputs": [
    {
     "data": {
      "image/png": "[encoded data removed]",
      "text/plain": [
       "<Figure size 400x400 with 1 Axes>"
      ]
     },
     "metadata": {},
     "output_type": "display_data"
    }
   ],
   "source": [
    "# Plot the loss curve\n",
    "plt.figure(figsize = (4, 4))\n",
    "plt.suptitle(\"Figure 6\")\n",
    "plt.plot(clf_150_neurons.loss_curve_)\n",
    "plt.title('Loss Curve during Training')\n",
    "plt.xlabel('Iterations')\n",
    "plt.ylabel('Loss')\n",
    "plt.grid(True)\n",
    "plt.show()"
   ]
  },
  {
   "cell_type": "markdown",
   "metadata": {},
   "source": [
    "#### 6.4.2. Model 4.2 - Neural Network With Regularisation"
   ]
  },
  {
   "cell_type": "code",
   "execution_count": 249,
   "metadata": {},
   "outputs": [
    {
     "name": "stdout",
     "output_type": "stream",
     "text": [
      "Iteration 1, loss = 1.90193844\n",
      "Iteration 2, loss = 1.78661402\n",
      "Iteration 3, loss = 1.69418882\n",
      "Iteration 4, loss = 1.61121315\n",
      "Iteration 5, loss = 1.53694088\n",
      "Iteration 6, loss = 1.46818979\n",
      "Iteration 7, loss = 1.40449257\n",
      "Iteration 8, loss = 1.34561192\n",
      "Iteration 9, loss = 1.29073457\n",
      "Iteration 10, loss = 1.23902079\n",
      "Iteration 11, loss = 1.19102335\n",
      "Iteration 12, loss = 1.14620524\n",
      "Iteration 13, loss = 1.10396967\n",
      "Iteration 14, loss = 1.06520868\n",
      "Iteration 15, loss = 1.02908464\n",
      "Iteration 16, loss = 0.99501329\n",
      "Iteration 17, loss = 0.96277778\n",
      "Iteration 18, loss = 0.93189448\n",
      "Iteration 19, loss = 0.90350067\n",
      "Iteration 20, loss = 0.87645946\n",
      "Iteration 21, loss = 0.85129172\n",
      "Iteration 22, loss = 0.82740118\n",
      "Iteration 23, loss = 0.80501966\n",
      "Iteration 24, loss = 0.78356966\n",
      "Iteration 25, loss = 0.76328779\n",
      "Iteration 26, loss = 0.74416477\n",
      "Iteration 27, loss = 0.72620495\n",
      "Iteration 28, loss = 0.70970878\n",
      "Iteration 29, loss = 0.69363849\n",
      "Iteration 30, loss = 0.67838450\n",
      "Iteration 31, loss = 0.66395066\n",
      "Iteration 32, loss = 0.65045521\n",
      "Iteration 33, loss = 0.63787964\n",
      "Iteration 34, loss = 0.62601077\n",
      "Iteration 35, loss = 0.61478996\n",
      "Iteration 36, loss = 0.60399087\n",
      "Iteration 37, loss = 0.59393804\n",
      "Iteration 38, loss = 0.58436385\n",
      "Iteration 39, loss = 0.57520066\n",
      "Iteration 40, loss = 0.56674434\n",
      "Iteration 41, loss = 0.55935484\n",
      "Iteration 42, loss = 0.55174891\n",
      "Iteration 43, loss = 0.54458140\n",
      "Iteration 44, loss = 0.53830876\n",
      "Iteration 45, loss = 0.53219828\n",
      "Iteration 46, loss = 0.52600266\n",
      "Iteration 47, loss = 0.52024623\n",
      "Iteration 48, loss = 0.51501473\n",
      "Training loss did not improve more than tol=0.010000 for 10 consecutive epochs. Stopping.\n"
     ]
    }
   ],
   "source": [
    "# Neural Network with three hidden layers ([100,50] neurons)\n",
    "clf_150_neurons_reg = MLPClassifier(hidden_layer_sizes = (100,50), activation = 'relu',\n",
    "                              solver='adam', max_iter = 100, alpha = 5, tol = 1e-2, batch_size= 200,\n",
    "                              random_state = 666, verbose = True\n",
    "                              )\n",
    "\n",
    "# Train the network\n",
    "clf_150_neurons_reg.fit(X_train, y_train)\n",
    "\n",
    "# Predict on the test set\n",
    "y_pred_4_2 = clf_150_neurons_reg.predict(X_test)"
   ]
  },
  {
   "cell_type": "code",
   "execution_count": 250,
   "metadata": {},
   "outputs": [
    {
     "name": "stdout",
     "output_type": "stream",
     "text": [
      "Confusion Matrix:\n",
      "          Predicted Died  Predicted Survived\n",
      "Died                 118                  15\n",
      "Survived              23                  53\n"
     ]
    }
   ],
   "source": [
    "# Confusion matrix\n",
    "cm_4_2 = confusion_matrix(y_test, y_pred_4_2)\n",
    "cm_df_4_2 = pd.DataFrame(cm_4_2, index=['Died', 'Survived'], columns=['Predicted Died', 'Predicted Survived'])\n",
    "print(\"Confusion Matrix:\")\n",
    "print(cm_df_4_2)"
   ]
  },
  {
   "cell_type": "code",
   "execution_count": 251,
   "metadata": {},
   "outputs": [
    {
     "data": {
      "text/plain": [
       "0.8181818181818182"
      ]
     },
     "execution_count": 251,
     "metadata": {},
     "output_type": "execute_result"
    }
   ],
   "source": [
    "accuracy_score(y_test, y_pred_4_2)"
   ]
  },
  {
   "cell_type": "code",
   "execution_count": 252,
   "metadata": {},
   "outputs": [
    {
     "data": {
      "image/png": "[encoded data removed]",
      "text/plain": [
       "<Figure size 400x400 with 1 Axes>"
      ]
     },
     "metadata": {},
     "output_type": "display_data"
    }
   ],
   "source": [
    "# Plot the loss curve\n",
    "plt.figure(figsize = (4, 4))\n",
    "plt.suptitle(\"Figure 7\")\n",
    "plt.plot(clf_150_neurons_reg.loss_curve_)\n",
    "plt.title('Loss Curve during Training')\n",
    "plt.xlabel('Iterations')\n",
    "plt.ylabel('Loss')\n",
    "plt.grid(True)\n",
    "plt.show()"
   ]
  },
  {
   "cell_type": "markdown",
   "metadata": {},
   "source": [
    "#### 6.4.3. Model 4.3 - Bigger Neural Network Without Regularisation"
   ]
  },
  {
   "cell_type": "code",
   "execution_count": 253,
   "metadata": {},
   "outputs": [
    {
     "name": "stdout",
     "output_type": "stream",
     "text": [
      "Iteration 1, loss = 0.66049209\n",
      "Iteration 2, loss = 0.59103785\n",
      "Iteration 3, loss = 0.47477415\n",
      "Iteration 4, loss = 0.38177651\n",
      "Iteration 5, loss = 0.37268652\n",
      "Iteration 6, loss = 0.35882968\n",
      "Iteration 7, loss = 0.34813167\n",
      "Iteration 8, loss = 0.33892197\n",
      "Iteration 9, loss = 0.34021997\n",
      "Iteration 10, loss = 0.33974874\n",
      "Iteration 11, loss = 0.32712664\n",
      "Iteration 12, loss = 0.32890308\n",
      "Iteration 13, loss = 0.32519224\n",
      "Iteration 14, loss = 0.32017436\n",
      "Iteration 15, loss = 0.32145591\n",
      "Iteration 16, loss = 0.31937717\n",
      "Iteration 17, loss = 0.31732298\n",
      "Iteration 18, loss = 0.31642557\n",
      "Iteration 19, loss = 0.31107373\n",
      "Iteration 20, loss = 0.31603031\n",
      "Iteration 21, loss = 0.30698145\n",
      "Iteration 22, loss = 0.30308134\n",
      "Training loss did not improve more than tol=0.010000 for 10 consecutive epochs. Stopping.\n"
     ]
    }
   ],
   "source": [
    "# Neural Network with seven hidden layers ([100,100,100,100,100,100,100] neurons)\n",
    "clf_700_neurons_reg = MLPClassifier(hidden_layer_sizes = (100,100,100,100,100,100,100), activation = 'relu',\n",
    "                              solver='adam', max_iter = 100, alpha = 0, tol = 1e-2, batch_size= 200,\n",
    "                              random_state = 666, verbose = True\n",
    "                              )\n",
    "\n",
    "# Train the network\n",
    "clf_700_neurons_reg.fit(X_train, y_train)\n",
    "\n",
    "# Predict on the test set\n",
    "y_pred_4_3 = clf_700_neurons_reg.predict(X_test)"
   ]
  },
  {
   "cell_type": "code",
   "execution_count": 254,
   "metadata": {},
   "outputs": [
    {
     "name": "stdout",
     "output_type": "stream",
     "text": [
      "Confusion Matrix:\n",
      "          Predicted Died  Predicted Survived\n",
      "Died                 119                  14\n",
      "Survived              20                  56\n"
     ]
    }
   ],
   "source": [
    "# Confusion matrix\n",
    "cm_4_3 = confusion_matrix(y_test, y_pred_4_3)\n",
    "cm_df_4_3 = pd.DataFrame(cm_4_3, index=['Died', 'Survived'], columns=['Predicted Died', 'Predicted Survived'])\n",
    "print(\"Confusion Matrix:\")\n",
    "print(cm_df_4_3)"
   ]
  },
  {
   "cell_type": "code",
   "execution_count": 255,
   "metadata": {},
   "outputs": [
    {
     "data": {
      "text/plain": [
       "0.8373205741626795"
      ]
     },
     "execution_count": 255,
     "metadata": {},
     "output_type": "execute_result"
    }
   ],
   "source": [
    "accuracy_score(y_test, y_pred_4_3)"
   ]
  },
  {
   "cell_type": "code",
   "execution_count": 256,
   "metadata": {},
   "outputs": [
    {
     "data": {
      "image/png": "[encoded data removed]",
      "text/plain": [
       "<Figure size 400x400 with 1 Axes>"
      ]
     },
     "metadata": {},
     "output_type": "display_data"
    }
   ],
   "source": [
    "# Plot the loss curve\n",
    "plt.figure(figsize = (4, 4))\n",
    "plt.suptitle(\"Figure 8\")\n",
    "plt.plot(clf_700_neurons_reg.loss_curve_)\n",
    "plt.title('Loss Curve during Training')\n",
    "plt.xlabel('Iterations')\n",
    "plt.ylabel('Loss')\n",
    "plt.grid(True)\n",
    "plt.show()"
   ]
  },
  {
   "cell_type": "markdown",
   "metadata": {},
   "source": [
    "## 7. Conclusion"
   ]
  },
  {
   "cell_type": "markdown",
   "metadata": {},
   "source": [
    "The survival of a Titanic passenger can be predicted with an accuracy of 85.1% using a neural network with a 100-neurons layer and a 50-neurons layer, without regularisation. This is better than a logistic regression, without (81.3%) or with L1 regularisation (82.3%), or a random forest (same accuracy than the logistic regression with L1 regularisation). Finally, imposing regularisation (81.8%) or adding layers of neurons (83.7%) to the neural network does not appear to increase accuracy for this given dataset."
   ]
  },
  {
   "cell_type": "markdown",
   "metadata": {},
   "source": [
    "## 8. Bonus: Diagnoses"
   ]
  },
  {
   "cell_type": "markdown",
   "metadata": {},
   "source": [
    "### 8.1. Model 1 - Logistic Regression"
   ]
  },
  {
   "cell_type": "code",
   "execution_count": 257,
   "metadata": {},
   "outputs": [
    {
     "data": {
      "text/plain": [
       "0.8528708133971292"
      ]
     },
     "execution_count": 257,
     "metadata": {},
     "output_type": "execute_result"
    }
   ],
   "source": [
    "# Accuracy for train data\n",
    "y_train_pred_1 = reg.predict(X_train)\n",
    "accuracy_score(y_train, y_train_pred_1)"
   ]
  },
  {
   "cell_type": "code",
   "execution_count": 258,
   "metadata": {},
   "outputs": [
    {
     "data": {
      "text/plain": [
       "0.8133971291866029"
      ]
     },
     "execution_count": 258,
     "metadata": {},
     "output_type": "execute_result"
    }
   ],
   "source": [
    "# Accuracy reminder for test data\n",
    "accuracy_score(y_test, y_pred_1)"
   ]
  },
  {
   "cell_type": "markdown",
   "metadata": {},
   "source": [
    "It seems that there is a low bias with this model."
   ]
  },
  {
   "cell_type": "markdown",
   "metadata": {},
   "source": [
    "### 8.2. Model 2 - Logistic Regression With L1 Regularisation"
   ]
  },
  {
   "cell_type": "code",
   "execution_count": 259,
   "metadata": {},
   "outputs": [
    {
     "data": {
      "text/plain": [
       "0.8564593301435407"
      ]
     },
     "execution_count": 259,
     "metadata": {},
     "output_type": "execute_result"
    }
   ],
   "source": [
    "# Accuracy for train data\n",
    "y_train_pred_2 = reg_l1.predict(X_train)\n",
    "accuracy_score(y_train, y_train_pred_2)"
   ]
  },
  {
   "cell_type": "code",
   "execution_count": 260,
   "metadata": {},
   "outputs": [
    {
     "data": {
      "text/plain": [
       "0.8229665071770335"
      ]
     },
     "execution_count": 260,
     "metadata": {},
     "output_type": "execute_result"
    }
   ],
   "source": [
    "# Accuracy reminder for test data\n",
    "accuracy_score(y_test, y_pred_2)"
   ]
  },
  {
   "cell_type": "markdown",
   "metadata": {},
   "source": [
    "It seems that the bias is slightly higher than for the logistic regression without regularisation, in spite of the regularisation preventing overfitting."
   ]
  },
  {
   "cell_type": "markdown",
   "metadata": {},
   "source": [
    "### 8.3. Model 3 - Random Forest"
   ]
  },
  {
   "cell_type": "code",
   "execution_count": 261,
   "metadata": {},
   "outputs": [
    {
     "data": {
      "text/plain": [
       "0.9246411483253588"
      ]
     },
     "execution_count": 261,
     "metadata": {},
     "output_type": "execute_result"
    }
   ],
   "source": [
    "# Accuracy for train data\n",
    "y_train_pred_3 = model.predict(X_train)\n",
    "accuracy_score(y_train, y_train_pred_3)"
   ]
  },
  {
   "cell_type": "code",
   "execution_count": 262,
   "metadata": {},
   "outputs": [
    {
     "data": {
      "text/plain": [
       "0.8229665071770335"
      ]
     },
     "execution_count": 262,
     "metadata": {},
     "output_type": "execute_result"
    }
   ],
   "source": [
    "# Accuracy reminder for test data\n",
    "accuracy_score(y_test, y_pred_3)"
   ]
  },
  {
   "cell_type": "markdown",
   "metadata": {},
   "source": [
    "It seems that there is a quite high variance with this model."
   ]
  },
  {
   "cell_type": "markdown",
   "metadata": {},
   "source": [
    "### 8.4. Model 4 - Neural Network\n",
    "\n",
    "Please note that I only diagnose the neural network with a 100-neurons layer and a 50-neurons layer, without regularisation, because it has the best accuracy, and because I had already manually \"optimised\" it."
   ]
  },
  {
   "cell_type": "code",
   "execution_count": 263,
   "metadata": {},
   "outputs": [
    {
     "data": {
      "text/plain": [
       "0.8660287081339713"
      ]
     },
     "execution_count": 263,
     "metadata": {},
     "output_type": "execute_result"
    }
   ],
   "source": [
    "# Accuracy for train data\n",
    "y_train_pred_4_1 = clf_150_neurons.predict(X_train)\n",
    "accuracy_score(y_train, y_train_pred_4_1)"
   ]
  },
  {
   "cell_type": "code",
   "execution_count": 264,
   "metadata": {},
   "outputs": [
    {
     "data": {
      "text/plain": [
       "0.8516746411483254"
      ]
     },
     "execution_count": 264,
     "metadata": {},
     "output_type": "execute_result"
    }
   ],
   "source": [
    "# Accuracy reminder for test data\n",
    "accuracy_score(y_test, y_pred_4_1)"
   ]
  },
  {
   "cell_type": "markdown",
   "metadata": {},
   "source": [
    "It seems that we are in the case of a slight bias."
   ]
  }
 ],
 "metadata": {
  "kernelspec": {
   "display_name": "Python 3",
   "language": "python",
   "name": "python3"
  },
  "language_info": {
   "codemirror_mode": {
    "name": "ipython",
    "version": 3
   },
   "file_extension": ".py",
   "mimetype": "text/x-python",
   "name": "python",
   "nbconvert_exporter": "python",
   "pygments_lexer": "ipython3",
   "version": "3.11.0"
  }
 },
 "nbformat": 4,
 "nbformat_minor": 2
}
